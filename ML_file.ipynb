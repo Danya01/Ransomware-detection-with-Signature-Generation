import numpy as np
from matplotlib import pyplot
import pandas as pd
import io
import seaborn as sns
import matplotlib.pyplot as plt
from sklearn import model_selection
from sklearn.ensemble import RandomForestClassifier
from sklearn.linear_model import LogisticRegression
from sklearn.tree import DecisionTreeClassifier
from sklearn import svm
from sklearn.neighbors import KNeighborsClassifier
from sklearn.decomposition import PCA
from hmmlearn import hmm
from sklearn.preprocessing import StandardScaler
from sklearn.model_selection import train_test_split
from sklearn.metrics import confusion_matrix
from sklearn.metrics import accuracy_score, precision_score, recall_score ,f1_score
from mlxtend.plotting import plot_confusion_matrix
from sklearn.metrics import classification_report
